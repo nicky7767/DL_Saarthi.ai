{
  "nbformat": 4,
  "nbformat_minor": 0,
  "metadata": {
    "colab": {
      "name": "saarthi.ipynb",
      "provenance": [],
      "collapsed_sections": []
    },
    "kernelspec": {
      "name": "python3",
      "display_name": "Python 3"
    },
    "language_info": {
      "name": "python"
    },
    "accelerator": "GPU"
  },
  "cells": [
    {
      "cell_type": "code",
      "metadata": {
        "id": "4ORk1pNDqq5b",
        "colab": {
          "base_uri": "https://localhost:8080/"
        },
        "outputId": "8164c327-2fc6-472f-b815-982791eee908"
      },
      "source": [
        "import os\n",
        "import collections\n",
        "import pandas as pd\n",
        "import tensorflow as tf\n",
        "import tensorflow_hub as hub\n",
        "import numpy as np\n",
        "!pip install bert-tensorflow\n",
        "!pip install transformers\n",
        "# %load_ext tensorboard  //use it for tensorboard\n",
        "import datetime\n",
        "\n",
        "from transformers import TFBertModel,  BertConfig, BertTokenizerFast\n",
        "from tensorflow.keras.layers import Input, Dropout, Dense\n",
        "from tensorflow.keras.models import Model\n",
        "from tensorflow.keras.optimizers import Adam\n",
        "from tensorflow.keras.callbacks import EarlyStopping\n",
        "from tensorflow.keras.initializers import TruncatedNormal\n",
        "from tensorflow.keras.losses import CategoricalCrossentropy\n",
        "from tensorflow.keras.metrics import CategoricalAccuracy\n",
        "from tensorflow.keras.utils import to_categorical\n",
        "from sklearn.model_selection import train_test_split"
      ],
      "execution_count": 33,
      "outputs": [
        {
          "output_type": "stream",
          "name": "stdout",
          "text": [
            "Requirement already satisfied: bert-tensorflow in /usr/local/lib/python3.7/dist-packages (1.0.4)\n",
            "Requirement already satisfied: six in /usr/local/lib/python3.7/dist-packages (from bert-tensorflow) (1.15.0)\n",
            "Requirement already satisfied: transformers in /usr/local/lib/python3.7/dist-packages (4.11.3)\n",
            "Requirement already satisfied: sacremoses in /usr/local/lib/python3.7/dist-packages (from transformers) (0.0.46)\n",
            "Requirement already satisfied: regex!=2019.12.17 in /usr/local/lib/python3.7/dist-packages (from transformers) (2019.12.20)\n",
            "Requirement already satisfied: huggingface-hub>=0.0.17 in /usr/local/lib/python3.7/dist-packages (from transformers) (0.0.19)\n",
            "Requirement already satisfied: tokenizers<0.11,>=0.10.1 in /usr/local/lib/python3.7/dist-packages (from transformers) (0.10.3)\n",
            "Requirement already satisfied: filelock in /usr/local/lib/python3.7/dist-packages (from transformers) (3.3.0)\n",
            "Requirement already satisfied: tqdm>=4.27 in /usr/local/lib/python3.7/dist-packages (from transformers) (4.62.3)\n",
            "Requirement already satisfied: pyyaml>=5.1 in /usr/local/lib/python3.7/dist-packages (from transformers) (5.4.1)\n",
            "Requirement already satisfied: importlib-metadata in /usr/local/lib/python3.7/dist-packages (from transformers) (4.8.1)\n",
            "Requirement already satisfied: requests in /usr/local/lib/python3.7/dist-packages (from transformers) (2.23.0)\n",
            "Requirement already satisfied: numpy>=1.17 in /usr/local/lib/python3.7/dist-packages (from transformers) (1.19.5)\n",
            "Requirement already satisfied: packaging>=20.0 in /usr/local/lib/python3.7/dist-packages (from transformers) (21.0)\n",
            "Requirement already satisfied: typing-extensions in /usr/local/lib/python3.7/dist-packages (from huggingface-hub>=0.0.17->transformers) (3.7.4.3)\n",
            "Requirement already satisfied: pyparsing>=2.0.2 in /usr/local/lib/python3.7/dist-packages (from packaging>=20.0->transformers) (2.4.7)\n",
            "Requirement already satisfied: zipp>=0.5 in /usr/local/lib/python3.7/dist-packages (from importlib-metadata->transformers) (3.6.0)\n",
            "Requirement already satisfied: certifi>=2017.4.17 in /usr/local/lib/python3.7/dist-packages (from requests->transformers) (2021.5.30)\n",
            "Requirement already satisfied: chardet<4,>=3.0.2 in /usr/local/lib/python3.7/dist-packages (from requests->transformers) (3.0.4)\n",
            "Requirement already satisfied: idna<3,>=2.5 in /usr/local/lib/python3.7/dist-packages (from requests->transformers) (2.10)\n",
            "Requirement already satisfied: urllib3!=1.25.0,!=1.25.1,<1.26,>=1.21.1 in /usr/local/lib/python3.7/dist-packages (from requests->transformers) (1.24.3)\n",
            "Requirement already satisfied: joblib in /usr/local/lib/python3.7/dist-packages (from sacremoses->transformers) (1.0.1)\n",
            "Requirement already satisfied: click in /usr/local/lib/python3.7/dist-packages (from sacremoses->transformers) (7.1.2)\n",
            "Requirement already satisfied: six in /usr/local/lib/python3.7/dist-packages (from sacremoses->transformers) (1.15.0)\n"
          ]
        }
      ]
    },
    {
      "cell_type": "code",
      "metadata": {
        "id": "gmPJeYpzq1Qb"
      },
      "source": [
        "from google.colab import drive\n",
        "drive.mount('/content/drive')"
      ],
      "execution_count": null,
      "outputs": []
    },
    {
      "cell_type": "code",
      "metadata": {
        "id": "qYh1kSr_usTZ"
      },
      "source": [
        "# rm -rf ./logs/   #use it for tensorboard"
      ],
      "execution_count": null,
      "outputs": []
    },
    {
      "cell_type": "code",
      "metadata": {
        "id": "wtiNtb_crdOf"
      },
      "source": [
        "train_data = pd.read_csv('/content/drive/MyDrive/winter_project/train_data.csv')\n",
        "valid_data = pd.read_csv('/content/drive/MyDrive/winter_project/valid_data.csv')\n",
        "\n",
        "train_data = train_data[['transcription', 'action', 'object', 'location']]\n",
        "valid_data = valid_data[['transcription', 'action', 'object', 'location']]\n",
        "\n",
        "train_data = train_data.dropna()\n",
        "train_data[\"transcription\"] = train_data[\"transcription\"].str.lower()\n",
        "valid_data = valid_data.dropna()\n",
        "valid_data[\"transcription\"] = valid_data[\"transcription\"].str.lower()\n",
        "\n",
        "train_data['action_label'] = pd.Categorical(train_data['action'])\n",
        "train_data['object_label'] = pd.Categorical(train_data['object'])\n",
        "train_data['location_label'] = pd.Categorical(train_data['location'])\n",
        "\n",
        "valid_data['action_label'] = pd.Categorical(valid_data['action'])\n",
        "valid_data['object_label'] = pd.Categorical(valid_data['object'])\n",
        "valid_data['location_label'] = pd.Categorical(valid_data['location'])\n",
        "\n",
        "\n",
        "train_data['action'] = train_data['action_label'].cat.codes\n",
        "train_data['object'] = train_data['object_label'].cat.codes\n",
        "train_data['location'] = train_data['location_label'].cat.codes\n",
        "\n",
        "valid_data['action'] = valid_data['action_label'].cat.codes\n",
        "valid_data['object'] = valid_data['object_label'].cat.codes\n",
        "valid_data['location'] = valid_data['location_label'].cat.codes\n",
        "\n",
        "action_dict = dict(zip(train_data.action, train_data.action_label))\n",
        "object_dict = dict(zip(train_data.object, train_data.object_label))\n",
        "location_dict = dict(zip(train_data.location, train_data.location_label))"
      ],
      "execution_count": 34,
      "outputs": []
    },
    {
      "cell_type": "code",
      "metadata": {
        "colab": {
          "base_uri": "https://localhost:8080/",
          "height": 237
        },
        "id": "MydfGp1awbdc",
        "outputId": "69187317-02a4-4cfc-9441-2d1ff787aa0d"
      },
      "source": [
        "print(train_data.shape)\n",
        "print(valid_data.shape)\n",
        "display(valid_data.head())"
      ],
      "execution_count": 35,
      "outputs": [
        {
          "output_type": "stream",
          "name": "stdout",
          "text": [
            "(11566, 7)\n",
            "(3118, 7)\n"
          ]
        },
        {
          "output_type": "display_data",
          "data": {
            "text/html": [
              "<div>\n",
              "<style scoped>\n",
              "    .dataframe tbody tr th:only-of-type {\n",
              "        vertical-align: middle;\n",
              "    }\n",
              "\n",
              "    .dataframe tbody tr th {\n",
              "        vertical-align: top;\n",
              "    }\n",
              "\n",
              "    .dataframe thead th {\n",
              "        text-align: right;\n",
              "    }\n",
              "</style>\n",
              "<table border=\"1\" class=\"dataframe\">\n",
              "  <thead>\n",
              "    <tr style=\"text-align: right;\">\n",
              "      <th></th>\n",
              "      <th>transcription</th>\n",
              "      <th>action</th>\n",
              "      <th>object</th>\n",
              "      <th>location</th>\n",
              "      <th>action_label</th>\n",
              "      <th>object_label</th>\n",
              "      <th>location_label</th>\n",
              "    </tr>\n",
              "  </thead>\n",
              "  <tbody>\n",
              "    <tr>\n",
              "      <th>0</th>\n",
              "      <td>turn on the lights</td>\n",
              "      <td>0</td>\n",
              "      <td>7</td>\n",
              "      <td>2</td>\n",
              "      <td>activate</td>\n",
              "      <td>lights</td>\n",
              "      <td>none</td>\n",
              "    </tr>\n",
              "    <tr>\n",
              "      <th>1</th>\n",
              "      <td>turn off the lights</td>\n",
              "      <td>3</td>\n",
              "      <td>7</td>\n",
              "      <td>2</td>\n",
              "      <td>deactivate</td>\n",
              "      <td>lights</td>\n",
              "      <td>none</td>\n",
              "    </tr>\n",
              "    <tr>\n",
              "      <th>2</th>\n",
              "      <td>change language</td>\n",
              "      <td>2</td>\n",
              "      <td>10</td>\n",
              "      <td>2</td>\n",
              "      <td>change language</td>\n",
              "      <td>none</td>\n",
              "      <td>none</td>\n",
              "    </tr>\n",
              "    <tr>\n",
              "      <th>3</th>\n",
              "      <td>pause the music</td>\n",
              "      <td>3</td>\n",
              "      <td>8</td>\n",
              "      <td>2</td>\n",
              "      <td>deactivate</td>\n",
              "      <td>music</td>\n",
              "      <td>none</td>\n",
              "    </tr>\n",
              "    <tr>\n",
              "      <th>4</th>\n",
              "      <td>resume</td>\n",
              "      <td>0</td>\n",
              "      <td>8</td>\n",
              "      <td>2</td>\n",
              "      <td>activate</td>\n",
              "      <td>music</td>\n",
              "      <td>none</td>\n",
              "    </tr>\n",
              "  </tbody>\n",
              "</table>\n",
              "</div>"
            ],
            "text/plain": [
              "         transcription  action  ...  object_label  location_label\n",
              "0   turn on the lights       0  ...        lights            none\n",
              "1  turn off the lights       3  ...        lights            none\n",
              "2      change language       2  ...          none            none\n",
              "3      pause the music       3  ...         music            none\n",
              "4               resume       0  ...         music            none\n",
              "\n",
              "[5 rows x 7 columns]"
            ]
          },
          "metadata": {}
        }
      ]
    },
    {
      "cell_type": "code",
      "metadata": {
        "id": "laAYIADOwdtg",
        "colab": {
          "base_uri": "https://localhost:8080/"
        },
        "outputId": "6baaa2b0-4bda-4366-a733-f86dc62f048c"
      },
      "source": [
        "max_length = 13\n",
        "model_name = 'bert-base-uncased'\n",
        "config = BertConfig.from_pretrained(model_name)\n",
        "config.output_hidden_states = False\n",
        "tokenizer = BertTokenizerFast.from_pretrained(pretrained_model_name_or_path = model_name, config = config)\n",
        "transformer_model = TFBertModel.from_pretrained(model_name, config = config)"
      ],
      "execution_count": 36,
      "outputs": [
        {
          "output_type": "stream",
          "name": "stderr",
          "text": [
            "Some layers from the model checkpoint at bert-base-uncased were not used when initializing TFBertModel: ['mlm___cls', 'nsp___cls']\n",
            "- This IS expected if you are initializing TFBertModel from the checkpoint of a model trained on another task or with another architecture (e.g. initializing a BertForSequenceClassification model from a BertForPreTraining model).\n",
            "- This IS NOT expected if you are initializing TFBertModel from the checkpoint of a model that you expect to be exactly identical (initializing a BertForSequenceClassification model from a BertForSequenceClassification model).\n",
            "All the layers of TFBertModel were initialized from the model checkpoint at bert-base-uncased.\n",
            "If your task is similar to the task the model of the checkpoint was trained on, you can already use TFBertModel for predictions without further training.\n"
          ]
        }
      ]
    },
    {
      "cell_type": "code",
      "metadata": {
        "colab": {
          "base_uri": "https://localhost:8080/"
        },
        "id": "L-7V0SGEyQ4n",
        "outputId": "7043cfcf-deef-4006-9973-7b3a37421496"
      },
      "source": [
        "bert = transformer_model.layers[0]\n",
        "input_ids = Input(shape=(max_length,), name='input_ids', dtype='int32')\n",
        "inputs = {'input_ids': input_ids}\n",
        "\n",
        "bert_model = bert(inputs)[1]\n",
        "dropout = Dropout(config.hidden_dropout_prob, name='pooled_output')\n",
        "pooled_output = dropout(bert_model, training=False)\n",
        "\n",
        "Action = Dense(units=len(train_data.action_label.value_counts()), kernel_initializer=TruncatedNormal(stddev=config.initializer_range), name='action')(pooled_output)\n",
        "Object = Dense(units=len(train_data.object_label.value_counts()), kernel_initializer=TruncatedNormal(stddev=config.initializer_range), name='object')(pooled_output)\n",
        "Location = Dense(units=len(train_data.location_label.value_counts()), kernel_initializer=TruncatedNormal(stddev=config.initializer_range), name='location')(pooled_output)\n",
        "\n",
        "outputs = {'action': Action, 'object': Object, 'location' : Location}\n",
        "model = Model(inputs = inputs, outputs = outputs, name='BERT_MultiLabel_MultiClass')\n",
        "\n",
        "print(model.summary())"
      ],
      "execution_count": 38,
      "outputs": [
        {
          "output_type": "stream",
          "name": "stdout",
          "text": [
            "Model: \"BERT_MultiLabel_MultiClass\"\n",
            "__________________________________________________________________________________________________\n",
            "Layer (type)                    Output Shape         Param #     Connected to                     \n",
            "==================================================================================================\n",
            "input_ids (InputLayer)          [(None, 13)]         0                                            \n",
            "__________________________________________________________________________________________________\n",
            "bert (TFBertMainLayer)          TFBaseModelOutputWit 109482240   input_ids[0][0]                  \n",
            "__________________________________________________________________________________________________\n",
            "pooled_output (Dropout)         (None, 768)          0           bert[1][1]                       \n",
            "__________________________________________________________________________________________________\n",
            "action (Dense)                  (None, 6)            4614        pooled_output[0][0]              \n",
            "__________________________________________________________________________________________________\n",
            "location (Dense)                (None, 4)            3076        pooled_output[0][0]              \n",
            "__________________________________________________________________________________________________\n",
            "object (Dense)                  (None, 14)           10766       pooled_output[0][0]              \n",
            "==================================================================================================\n",
            "Total params: 109,500,696\n",
            "Trainable params: 109,500,696\n",
            "Non-trainable params: 0\n",
            "__________________________________________________________________________________________________\n",
            "None\n"
          ]
        }
      ]
    },
    {
      "cell_type": "code",
      "metadata": {
        "id": "SNUFLDEI0AsC"
      },
      "source": [
        "# use it for tensorboard\n",
        "# log_dir = \"logs/fit/\" + datetime.datetime.now().strftime(\"%Y%m%d-%H%M%S\")\n",
        "# tensorboard_callback = tf.keras.callbacks.TensorBoard(log_dir=log_dir, histogram_freq=1)     \n",
        "\n",
        "optimizer = Adam(learning_rate = 5e-05, epsilon = 1e-08, decay = 0.01, clipnorm = 1.0)\n",
        "\n",
        "loss = {'action': CategoricalCrossentropy(from_logits = True), 'object': CategoricalCrossentropy(from_logits = True), 'location' : CategoricalCrossentropy(from_logits = True)}\n",
        "metric = {'action': CategoricalCrossentropy('accuracy'), 'object': CategoricalCrossentropy('accuracy'), 'location' : CategoricalCrossentropy('accuracy')}\n",
        "\n",
        "model.compile(optimizer = optimizer, loss = loss, metrics = metric)\n",
        "\n",
        "y_train_action = to_categorical(train_data['action'])\n",
        "y_train_object = to_categorical(train_data['object'])\n",
        "y_train_location = to_categorical(train_data['location'])\n",
        "\n",
        "X_train = tokenizer(text = train_data['transcription'].to_list(), add_special_tokens = True, max_length = max_length, truncation = True, padding=True, return_tensors='tf', return_token_type_ids = False, return_attention_mask = False, verbose = True)\n",
        "\n",
        "history = model.fit(x = {'input_ids': X_train['input_ids']}, y = {'action': y_train_action, 'object': y_train_object, 'location' : y_train_location}, validation_split = 0.2, batch_size = 128, epochs = 5) \n",
        "                    #callbacks=[tensorboard_callback]) #use for tensorboard"
      ],
      "execution_count": null,
      "outputs": []
    },
    {
      "cell_type": "code",
      "metadata": {
        "id": "G3Ih801qv6Ao"
      },
      "source": [
        "# %tensorboard --logdir logs/fit"
      ],
      "execution_count": null,
      "outputs": []
    },
    {
      "cell_type": "code",
      "metadata": {
        "id": "eflnTVJKQOxa"
      },
      "source": [
        "valid_y_action = to_categorical(valid_data['action'])\n",
        "valid_y_object = to_categorical(valid_data['object'])\n",
        "valid_y_location = to_categorical(valid_data['location'])\n",
        "valid_x = tokenizer(text = valid_data['transcription'].to_list(), add_special_tokens = True, max_length = max_length, truncation = True, padding = True,  return_tensors = 'tf',\n",
        "                    return_token_type_ids = False, return_attention_mask = False, verbose = True)\n",
        "valid_pred = model.predict(x = {'input_ids': valid_x['input_ids']})"
      ],
      "execution_count": 22,
      "outputs": []
    },
    {
      "cell_type": "code",
      "metadata": {
        "id": "FGPccxUnTBud"
      },
      "source": [
        "pred_action_id = np.argmax(np.array(valid_pred['action']), axis = 1)\n",
        "pred_object_id = np.argmax(np.array(valid_pred['object']), axis = 1)\n",
        "pred_location_id = np.argmax(np.array(valid_pred['location']), axis = 1)\n",
        "\n",
        "\n",
        "pred_y_action_id = np.argmax(np.array(valid_y_action), axis = 1)\n",
        "pred_y_object_id = np.argmax(np.array(valid_y_object), axis = 1)\n",
        "pred_y_location_id = np.argmax(np.array(valid_y_location), axis = 1)\n",
        "\n",
        "# np.unique(np.sum(np.stack([pred_action_id, pred_object_id, pred_location_id], axis=1) == np.stack([pred_y_action_id, pred_y_object_id, pred_y_location_id], axis=1), axis = 1), return_counts=True)\n"
      ],
      "execution_count": null,
      "outputs": []
    },
    {
      "cell_type": "code",
      "metadata": {
        "colab": {
          "base_uri": "https://localhost:8080/"
        },
        "id": "uQyNxP_gTjwr",
        "outputId": "34331d6d-d5a0-4402-bd11-aca47c020d3b"
      },
      "source": [
        "from sklearn.metrics import f1_score\n",
        "y_true = np.stack([pred_y_action_id, pred_y_object_id, pred_y_location_id], axis = 1)\n",
        "y_pred = np.stack([pred_action_id, pred_object_id, pred_location_id], axis = 1)\n",
        "f1_action = f1_score(pred_y_action_id, pred_action_id, average='micro')\n",
        "f1_object = f1_score(pred_y_object_id, pred_object_id, average='micro')\n",
        "f1_location = f1_score(pred_y_action_id, pred_action_id, average='micro')\n",
        "f1_total = (f1_action + f1_object + f1_location)/3\n",
        "print(f1_total)"
      ],
      "execution_count": 24,
      "outputs": [
        {
          "output_type": "execute_result",
          "data": {
            "text/plain": [
              "1.0"
            ]
          },
          "metadata": {},
          "execution_count": 24
        }
      ]
    },
    {
      "cell_type": "code",
      "metadata": {
        "id": "9hKVxA5mICW1"
      },
      "source": [
        "valid_data[\"action_pred_int\"] = pred_y_action_id\n",
        "valid_data[\"object_pred_int\"] = pred_y_object_id\n",
        "valid_data[\"location_pred_int\"] = pred_y_location_id\n",
        "\n",
        "valid_data[\"action_pred\"] = valid_data[\"action\"].map(lambda x : action_dict[x])\n",
        "valid_data[\"object_pred\"] = valid_data[\"object\"].map(lambda x : object_dict[x])\n",
        "valid_data[\"location_pred\"] = valid_data[\"location\"].map(lambda x : location_dict[x])\n"
      ],
      "execution_count": 28,
      "outputs": []
    },
    {
      "cell_type": "code",
      "metadata": {
        "id": "3XKZDXopmCUZ"
      },
      "source": [
        "valid_data = valid_data.drop(columns=[\"action_pred_int\", \"object_pred_int\", \"location_pred_int\", \"action\", \"location\", \"object\"])\n",
        "display(valid_data)"
      ],
      "execution_count": null,
      "outputs": []
    },
    {
      "cell_type": "code",
      "metadata": {
        "id": "cc5BflH0mkbg"
      },
      "source": [
        "\n",
        "############test evaluation############\n",
        "test_y_action = to_categorical(test_data['action'])\n",
        "test_y_object = to_categorical(test_data['object'])\n",
        "test_y_location = to_categorical(test_data['location'])\n",
        "test_x = tokenizer(text = test_data['transcription'].to_list(), add_special_tokens = True, max_length = max_length, truncation = True, padding = True,  return_tensors = 'tf',\n",
        "                    return_token_type_ids = False, return_attention_mask = False, verbose = True)\n",
        "test_pred = model.predict(x = {'input_ids': test_x['input_ids']})\n",
        "\n",
        "pred_action_id = np.argmax(np.array(test_pred['action']), axis = 1)\n",
        "pred_object_id = np.argmax(np.array(test_pred['object']), axis = 1)\n",
        "pred_location_id = np.argmax(np.array(test_pred['location']), axis = 1)\n",
        "\n",
        "\n",
        "pred_y_action_id = np.argmax(np.array(test_y_action), axis = 1)\n",
        "pred_y_object_id = np.argmax(np.array(test_y_object), axis = 1)\n",
        "pred_y_location_id = np.argmax(np.array(test_y_location), axis = 1)\n",
        "\n",
        "# np.unique(np.sum(np.stack([pred_action_id, pred_object_id, pred_location_id], axis=1) == np.stack([pred_y_action_id, pred_y_object_id, pred_y_location_id], axis=1), axis = 1), return_counts=True)\n",
        "\n",
        "\n",
        "y_true = np.stack([pred_y_action_id, pred_y_object_id, pred_y_location_id], axis = 1)\n",
        "y_pred = np.stack([pred_action_id, pred_object_id, pred_location_id], axis = 1)\n",
        "f1_action = f1_score(pred_y_action_id, pred_action_id, average='micro')\n",
        "f1_object = f1_score(pred_y_object_id, pred_object_id, average='micro')\n",
        "f1_location = f1_score(pred_y_action_id, pred_action_id, average='micro')\n",
        "f1_total = (f1_action + f1_object + f1_location)/3\n",
        "print(f1_total)\n",
        "\n",
        "test_data[\"action_pred_int\"] = pred_y_action_id\n",
        "test_data[\"object_pred_int\"] = pred_y_object_id\n",
        "test_data[\"location_pred_int\"] = pred_y_location_id\n",
        "\n",
        "test_data[\"action_pred\"] = test_data[\"action\"].map(lambda x : action_dict[x])\n",
        "test_data[\"object_pred\"] = test_data[\"object\"].map(lambda x : object_dict[x])\n",
        "test_data[\"location_pred\"] = test_data[\"location\"].map(lambda x : location_dict[x])\n",
        "\n",
        "test_data = test_data.drop(columns=[\"action_pred_int\", \"object_pred_int\", \"location_pred_int\", \"action\", \"location\", \"object\"])\n",
        "display(test_data)"
      ],
      "execution_count": null,
      "outputs": []
    }
  ]
}